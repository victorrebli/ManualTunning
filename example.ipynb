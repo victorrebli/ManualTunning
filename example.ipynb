{
 "cells": [
  {
   "cell_type": "code",
   "execution_count": 1,
   "metadata": {},
   "outputs": [],
   "source": [
    "import pandas as pd\n",
    "import numpy as np\n",
    "from run import ManualTunning\n",
    "import lightgbm as lgb\n",
    "from sklearn.model_selection import KFold, StratifiedKFold, train_test_split\n",
    "import xgboost as xgb\n",
    "from sklearn.ensemble import RandomForestClassifier\n",
    "from sklearn.base import clone\n",
    "from sklearn.metrics import roc_auc_score"
   ]
  },
  {
   "cell_type": "code",
   "execution_count": 2,
   "metadata": {},
   "outputs": [],
   "source": [
    "data = pd.read_csv('data/creditcard.csv')"
   ]
  },
  {
   "cell_type": "code",
   "execution_count": 3,
   "metadata": {},
   "outputs": [],
   "source": [
    "label = data.Class\n",
    "data = data.drop(['Time', 'Class'], axis=1)"
   ]
  },
  {
   "cell_type": "code",
   "execution_count": 4,
   "metadata": {},
   "outputs": [],
   "source": [
    "X_train, X_test, y_train, y_test = train_test_split(data,label, test_size=0.33, random_state=42) "
   ]
  },
  {
   "cell_type": "code",
   "execution_count": 5,
   "metadata": {},
   "outputs": [],
   "source": [
    "lgb_params = {\n",
    "             'n_jobs': 5, 'two_round': True, 'is_unbalance': True,\n",
    "             'boosting_type': 'gbdt', 'learning_rate': 0.01, 'min_child_samples': 10,\n",
    "             'min_child_weight': 5, 'n_estimators':1000, 'num_leaves':21,\n",
    "             'max_depth': 6\n",
    "}"
   ]
  },
  {
   "cell_type": "markdown",
   "metadata": {},
   "source": [
    "### LightGBM Example"
   ]
  },
  {
   "cell_type": "code",
   "execution_count": 6,
   "metadata": {},
   "outputs": [],
   "source": [
    "estimator = lgb.LGBMClassifier(**lgb_params, random_state = 10)"
   ]
  },
  {
   "cell_type": "code",
   "execution_count": 7,
   "metadata": {},
   "outputs": [],
   "source": [
    "param_dict = {'n_estimators': [10, 100], 'max_depth': [4, 6]}\n",
    "tunning = ManualTunning(clone(estimator), cv=3)"
   ]
  },
  {
   "cell_type": "code",
   "execution_count": 8,
   "metadata": {},
   "outputs": [
    {
     "name": "stderr",
     "output_type": "stream",
     "text": [
      "[05/19 03:08:25] Initializing... Parameters: {'n_estimators': [10, 100], 'max_depth': [4, 6]}\n",
      "[05/19 03:08:25] Models to be trained: 4\n",
      "[05/19 03:08:25] Estimator: lightgbm.sklearn\n",
      "[05/19 03:08:26] Parameter: {'n_estimators': 10, 'max_depth': 4} - Metric: auc - Value: 0.9474677526986658\n",
      "[05/19 03:08:27] Parameter: {'n_estimators': 10, 'max_depth': 6} - Metric: auc - Value: 0.9530732968260113\n",
      "[05/19 03:08:30] Parameter: {'n_estimators': 100, 'max_depth': 4} - Metric: auc - Value: 0.9614489946122249\n",
      "[05/19 03:08:33] Parameter: {'n_estimators': 100, 'max_depth': 6} - Metric: auc - Value: 0.9661781313729239\n",
      "[05/19 03:08:33] Best: [['max_depth', 6], ['n_estimators', 100]] - Score: 0.9661781313729239\n"
     ]
    }
   ],
   "source": [
    "tunning.fit(X_train,y_train,param_dict)"
   ]
  },
  {
   "cell_type": "code",
   "execution_count": 9,
   "metadata": {},
   "outputs": [],
   "source": [
    "for param, value in dict(tunning.scores_[0][0]).items():\n",
    "   estimator.set_params(**{param:value})"
   ]
  },
  {
   "cell_type": "code",
   "execution_count": 10,
   "metadata": {},
   "outputs": [
    {
     "name": "stdout",
     "output_type": "stream",
     "text": [
      "ROCAUC - 0.9765981812722798\n"
     ]
    }
   ],
   "source": [
    "estimator.fit(X_train, y_train)\n",
    "print(f'ROCAUC - {roc_auc_score(y_test, estimator.predict_proba(X_test)[:, 1])}')"
   ]
  },
  {
   "cell_type": "markdown",
   "metadata": {},
   "source": [
    "### xgboost example"
   ]
  },
  {
   "cell_type": "code",
   "execution_count": 11,
   "metadata": {},
   "outputs": [],
   "source": [
    "xgb_params = {\n",
    "             'n_jobs': 5, 'two_round': True, 'is_unbalance': True,\n",
    "             'boosting_type': 'gbdt', 'learning_rate': 0.01, 'min_child_samples': 10,\n",
    "             'min_child_weight': 5, 'n_estimators':1000, 'num_leaves':21,\n",
    "             'max_depth': 6\n",
    "}"
   ]
  },
  {
   "cell_type": "code",
   "execution_count": 12,
   "metadata": {},
   "outputs": [],
   "source": [
    "estimator = xgb.XGBClassifier(**xgb_params, random_state = 10)"
   ]
  },
  {
   "cell_type": "code",
   "execution_count": 13,
   "metadata": {},
   "outputs": [],
   "source": [
    "param_dict = {'n_estimators': [10, 100], 'max_depth': [4, 6]}\n",
    "tunning = ManualTunning(clone(estimator), cv=3)"
   ]
  },
  {
   "cell_type": "code",
   "execution_count": 14,
   "metadata": {},
   "outputs": [
    {
     "name": "stderr",
     "output_type": "stream",
     "text": [
      "[05/19 03:08:35] Initializing... Parameters: {'n_estimators': [10, 100], 'max_depth': [4, 6]}\n",
      "[05/19 03:08:35] Models to be trained: 4\n",
      "[05/19 03:08:35] Estimator: xgboost.sklearn\n",
      "[05/19 03:08:39] Parameter:{'n_estimators': 10, 'max_depth': 4} - Metric: auc - Value: 0.9108679077800005\n",
      "[05/19 03:08:43] Parameter:{'n_estimators': 10, 'max_depth': 6} - Metric: auc - Value: 0.9108679077800005\n",
      "[05/19 03:09:14] Parameter:{'n_estimators': 100, 'max_depth': 4} - Metric: auc - Value: 0.9152402389290968\n",
      "[05/19 03:09:47] Parameter:{'n_estimators': 100, 'max_depth': 6} - Metric: auc - Value: 0.9152403112056127\n",
      "[05/19 03:09:47] Best: [['max_depth', 6], ['n_estimators', 100]] - Score: 0.9152403112056127\n"
     ]
    }
   ],
   "source": [
    "tunning.fit(X_train, y_train,param_dict)"
   ]
  },
  {
   "cell_type": "code",
   "execution_count": 15,
   "metadata": {},
   "outputs": [],
   "source": [
    "for param, value in dict(tunning.scores_[0][0]).items():\n",
    "   estimator.set_params(**{param:value})"
   ]
  },
  {
   "cell_type": "code",
   "execution_count": 16,
   "metadata": {},
   "outputs": [
    {
     "name": "stdout",
     "output_type": "stream",
     "text": [
      "ROCAUC - 0.9327223369820128\n"
     ]
    }
   ],
   "source": [
    "estimator.fit(X_train, y_train)\n",
    "print(f'ROCAUC - {roc_auc_score(y_test, estimator.predict_proba(X_test)[:, 1])}')"
   ]
  },
  {
   "cell_type": "markdown",
   "metadata": {},
   "source": [
    "### RandomForest example"
   ]
  },
  {
   "cell_type": "code",
   "execution_count": 17,
   "metadata": {},
   "outputs": [],
   "source": [
    "estimator = RandomForestClassifier(random_state = 10)"
   ]
  },
  {
   "cell_type": "code",
   "execution_count": 18,
   "metadata": {},
   "outputs": [],
   "source": [
    "param_dict = {'n_estimators': [10, 100], 'max_depth': [4, 6]}\n",
    "tunning = ManualTunning(clone(estimator), cv=3)"
   ]
  },
  {
   "cell_type": "code",
   "execution_count": 19,
   "metadata": {},
   "outputs": [
    {
     "name": "stderr",
     "output_type": "stream",
     "text": [
      "[05/19 03:10:03] Initializing... Parameters: {'n_estimators': [10, 100], 'max_depth': [4, 6]}\n",
      "[05/19 03:10:03] Models to be trained: 4\n",
      "[05/19 03:10:03] Estimator: sklearn.ensemble._forest\n",
      "[05/19 03:10:10] Parameter: {'n_estimators': 10, 'max_depth': 4} - Metric: auc - Value: 0.9231969425498624\n",
      "[05/19 03:10:20] Parameter: {'n_estimators': 10, 'max_depth': 6} - Metric: auc - Value: 0.948931615607406\n",
      "[05/19 03:11:16] Parameter: {'n_estimators': 100, 'max_depth': 4} - Metric: auc - Value: 0.9594617453098889\n",
      "[05/19 03:12:39] Parameter: {'n_estimators': 100, 'max_depth': 6} - Metric: auc - Value: 0.9647602857659244\n",
      "[05/19 03:12:39] Best: [['max_depth', 6], ['n_estimators', 100]] - Score: 0.9647602857659244\n"
     ]
    }
   ],
   "source": [
    "tunning.fit(X_train, y_train,param_dict)"
   ]
  },
  {
   "cell_type": "code",
   "execution_count": 20,
   "metadata": {},
   "outputs": [],
   "source": [
    "for param, value in dict(tunning.scores_[0][0]).items():\n",
    "   estimator.set_params(**{param:value})"
   ]
  },
  {
   "cell_type": "code",
   "execution_count": 21,
   "metadata": {},
   "outputs": [
    {
     "name": "stdout",
     "output_type": "stream",
     "text": [
      "ROCAUC - 0.9748176959549449\n"
     ]
    }
   ],
   "source": [
    "estimator.fit(X_train, y_train)\n",
    "print(f'ROCAUC - {roc_auc_score(y_test, estimator.predict_proba(X_test)[:, 1])}')"
   ]
  }
 ],
 "metadata": {
  "kernelspec": {
   "display_name": "Python 3",
   "language": "python",
   "name": "python3"
  },
  "language_info": {
   "codemirror_mode": {
    "name": "ipython",
    "version": 3
   },
   "file_extension": ".py",
   "mimetype": "text/x-python",
   "name": "python",
   "nbconvert_exporter": "python",
   "pygments_lexer": "ipython3",
   "version": "3.7.1"
  }
 },
 "nbformat": 4,
 "nbformat_minor": 2
}
